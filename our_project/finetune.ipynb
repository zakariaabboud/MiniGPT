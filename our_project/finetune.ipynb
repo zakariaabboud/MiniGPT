{
 "cells": [
  {
   "cell_type": "code",
   "execution_count": 1,
   "metadata": {},
   "outputs": [
    {
     "name": "stdout",
     "output_type": "stream",
     "text": [
      "Tue Mar 11 19:34:45 2025       \n",
      "+-----------------------------------------------------------------------------------------+\n",
      "| NVIDIA-SMI 570.124.04             Driver Version: 570.124.04     CUDA Version: 12.8     |\n",
      "|-----------------------------------------+------------------------+----------------------+\n",
      "| GPU  Name                 Persistence-M | Bus-Id          Disp.A | Volatile Uncorr. ECC |\n",
      "| Fan  Temp   Perf          Pwr:Usage/Cap |           Memory-Usage | GPU-Util  Compute M. |\n",
      "|                                         |                        |               MIG M. |\n",
      "|=========================================+========================+======================|\n",
      "|   0  NVIDIA RTX 4000 Ada Gene...    Off |   00000000:01:00.0 Off |                  Off |\n",
      "| 30%   31C    P8             11W /  130W |     147MiB /  20475MiB |      0%      Default |\n",
      "|                                         |                        |                  N/A |\n",
      "+-----------------------------------------+------------------------+----------------------+\n",
      "                                                                                         \n",
      "+-----------------------------------------------------------------------------------------+\n",
      "| Processes:                                                                              |\n",
      "|  GPU   GI   CI              PID   Type   Process name                        GPU Memory |\n",
      "|        ID   ID                                                               Usage      |\n",
      "|=========================================================================================|\n",
      "|    0   N/A  N/A            2079      G   /usr/libexec/Xorg                        94MiB |\n",
      "|    0   N/A  N/A            2210      G   /usr/bin/gnome-shell                     17MiB |\n",
      "+-----------------------------------------------------------------------------------------+\n"
     ]
    }
   ],
   "source": [
    "!nvidia-smi"
   ]
  },
  {
   "cell_type": "code",
   "execution_count": 3,
   "metadata": {},
   "outputs": [
    {
     "name": "stderr",
     "output_type": "stream",
     "text": [
      "/users/eleves-a/2022/brahim.touayouch/projects/MiniGPT/.venv/lib64/python3.9/site-packages/IPython/core/magics/osm.py:417: UserWarning: using dhist requires you to install the `pickleshare` library.\n",
      "  self.shell.db['dhist'] = compress_dhist(dhist)[-100:]\n"
     ]
    },
    {
     "name": "stdout",
     "output_type": "stream",
     "text": [
      "/users/eleves-a/2022/brahim.touayouch/projects/MiniGPT\n"
     ]
    },
    {
     "name": "stderr",
     "output_type": "stream",
     "text": [
      "/users/eleves-a/2022/brahim.touayouch/projects/MiniGPT/.venv/lib64/python3.9/site-packages/tqdm/auto.py:21: TqdmWarning: IProgress not found. Please update jupyter and ipywidgets. See https://ipywidgets.readthedocs.io/en/stable/user_install.html\n",
      "  from .autonotebook import tqdm as notebook_tqdm\n"
     ]
    }
   ],
   "source": [
    "%cd ..\n",
    "\n",
    "from mingpt.bpe import BPETokenizer\n",
    "from mingpt.model import GPT\n",
    "\n",
    "import torch\n",
    "from datasets import load_dataset\n",
    "import pandas as pd\n",
    "import matplotlib.pyplot as plt"
   ]
  },
  {
   "cell_type": "code",
   "execution_count": 4,
   "metadata": {},
   "outputs": [],
   "source": [
    "class StoryDataset:\n",
    "    def __init__(self, data, tokenizer, block_size=128):\n",
    "        self.tokenizer = tokenizer\n",
    "        self.block_size = block_size\n",
    "        self.data1 = [\n",
    "            self.format_example(data_point[\"text\"]) for data_point in data\n",
    "        ]\n",
    "\n",
    "    def format_example(self, text):\n",
    "        tokens = self.tokenizer(text, return_tensors='pt', padding=True, truncation=True, max_length=self.block_size)\n",
    "        tokens = tokens.squeeze(0)\n",
    "        \n",
    "        return tokens\n",
    "\n",
    "    def __len__(self):\n",
    "        return len(self.data1)\n",
    "\n",
    "    def __getitem__(self, idx):\n",
    "        \"\"\"\n",
    "        Returns:\n",
    "            x (torch.Tensor): Input tokens (question + answer prompt).\n",
    "            y (torch.Tensor): Target tokens (shifted output).\n",
    "        \"\"\"\n",
    "        if isinstance(idx, int):\n",
    "            tokens = self.data1[idx]\n",
    "            x = tokens[:-1].clone().detach()\n",
    "            y = tokens[1:].clone().detach()\n",
    "            return x, y\n",
    "        \n",
    "        elif isinstance(idx, list) or isinstance(idx, torch.Tensor):\n",
    "            batch_tokens = [self.data1[i] for i in idx]\n",
    "            x_batch = [tokens[:-1].clone().detach() for tokens in batch_tokens]\n",
    "            y_batch = [tokens[1:].clone().detach() for tokens in batch_tokens]\n",
    "            return x_batch, y_batch\n",
    "        \n",
    "        else:\n",
    "            raise TypeError(f\"Invalid index type: {type(idx)}\")\n"
   ]
  },
  {
   "cell_type": "code",
   "execution_count": 5,
   "metadata": {},
   "outputs": [],
   "source": [
    "data = load_dataset('roneneldan/TinyStories')\n",
    "data_frame = pd.DataFrame(data[\"train\"])"
   ]
  },
  {
   "cell_type": "code",
   "execution_count": 6,
   "metadata": {},
   "outputs": [
    {
     "data": {
      "text/html": [
       "<div>\n",
       "<style scoped>\n",
       "    .dataframe tbody tr th:only-of-type {\n",
       "        vertical-align: middle;\n",
       "    }\n",
       "\n",
       "    .dataframe tbody tr th {\n",
       "        vertical-align: top;\n",
       "    }\n",
       "\n",
       "    .dataframe thead th {\n",
       "        text-align: right;\n",
       "    }\n",
       "</style>\n",
       "<table border=\"1\" class=\"dataframe\">\n",
       "  <thead>\n",
       "    <tr style=\"text-align: right;\">\n",
       "      <th></th>\n",
       "      <th>text</th>\n",
       "    </tr>\n",
       "  </thead>\n",
       "  <tbody>\n",
       "    <tr>\n",
       "      <th>0</th>\n",
       "      <td>One day, a little girl named Lily found a need...</td>\n",
       "    </tr>\n",
       "    <tr>\n",
       "      <th>1</th>\n",
       "      <td>Once upon a time, there was a little car named...</td>\n",
       "    </tr>\n",
       "    <tr>\n",
       "      <th>2</th>\n",
       "      <td>One day, a little fish named Fin was swimming ...</td>\n",
       "    </tr>\n",
       "    <tr>\n",
       "      <th>3</th>\n",
       "      <td>Once upon a time, in a land full of trees, the...</td>\n",
       "    </tr>\n",
       "    <tr>\n",
       "      <th>4</th>\n",
       "      <td>Once upon a time, there was a little girl name...</td>\n",
       "    </tr>\n",
       "    <tr>\n",
       "      <th>...</th>\n",
       "      <td>...</td>\n",
       "    </tr>\n",
       "    <tr>\n",
       "      <th>2119714</th>\n",
       "      <td>Once upon a time, in a small town, there lived...</td>\n",
       "    </tr>\n",
       "    <tr>\n",
       "      <th>2119715</th>\n",
       "      <td>Once upon a time, there was a little boy named...</td>\n",
       "    </tr>\n",
       "    <tr>\n",
       "      <th>2119716</th>\n",
       "      <td>Once upon a time, there was a big tree. Under ...</td>\n",
       "    </tr>\n",
       "    <tr>\n",
       "      <th>2119717</th>\n",
       "      <td>Once upon a time, there was a little girl name...</td>\n",
       "    </tr>\n",
       "    <tr>\n",
       "      <th>2119718</th>\n",
       "      <td>Once upon a time, there was an adorable little...</td>\n",
       "    </tr>\n",
       "  </tbody>\n",
       "</table>\n",
       "<p>2119719 rows × 1 columns</p>\n",
       "</div>"
      ],
      "text/plain": [
       "                                                      text\n",
       "0        One day, a little girl named Lily found a need...\n",
       "1        Once upon a time, there was a little car named...\n",
       "2        One day, a little fish named Fin was swimming ...\n",
       "3        Once upon a time, in a land full of trees, the...\n",
       "4        Once upon a time, there was a little girl name...\n",
       "...                                                    ...\n",
       "2119714  Once upon a time, in a small town, there lived...\n",
       "2119715  Once upon a time, there was a little boy named...\n",
       "2119716  Once upon a time, there was a big tree. Under ...\n",
       "2119717  Once upon a time, there was a little girl name...\n",
       "2119718  Once upon a time, there was an adorable little...\n",
       "\n",
       "[2119719 rows x 1 columns]"
      ]
     },
     "execution_count": 6,
     "metadata": {},
     "output_type": "execute_result"
    }
   ],
   "source": [
    "data_frame"
   ]
  },
  {
   "cell_type": "code",
   "execution_count": 7,
   "metadata": {},
   "outputs": [
    {
     "data": {
      "text/plain": [
       "'One day, a little girl named Lily found a needle in her room. She knew it was difficult to play with it because it was sharp. Lily wanted to share the needle with her mom, so she could sew a button on her shirt.\\n\\nLily went to her mom and said, \"Mom, I found this needle. Can you share it with me and sew my shirt?\" Her mom smiled and said, \"Yes, Lily, we can share the needle and fix your shirt.\"\\n\\nTogether, they shared the needle and sewed the button on Lily\\'s shirt. It was not difficult for them because they were sharing and helping each other. After they finished, Lily thanked her mom for sharing the needle and fixing her shirt. They both felt happy because they had shared and worked together.'"
      ]
     },
     "execution_count": 7,
     "metadata": {},
     "output_type": "execute_result"
    }
   ],
   "source": [
    "data_frame.iloc[0]['text']"
   ]
  },
  {
   "cell_type": "code",
   "execution_count": 8,
   "metadata": {},
   "outputs": [
    {
     "name": "stdout",
     "output_type": "stream",
     "text": [
      "Train size: 211971, Validation size: 953874, Test size: 953874\n"
     ]
    }
   ],
   "source": [
    "train_testvalid = data[\"train\"].train_test_split(test_size=0.9, seed=42)\n",
    "\n",
    "test_valid = train_testvalid[\"test\"].train_test_split(test_size=0.5, seed=42)\n",
    "\n",
    "train_data = train_testvalid[\"train\"]\n",
    "val_data = test_valid[\"train\"]\n",
    "test_data = test_valid[\"test\"]\n",
    "\n",
    "print(f\"Train size: {len(train_data)}, Validation size: {len(val_data)}, Test size: {len(test_data)}\")"
   ]
  },
  {
   "cell_type": "code",
   "execution_count": 9,
   "metadata": {},
   "outputs": [],
   "source": [
    "tokenizer = BPETokenizer()\n",
    "\n",
    "train_dataset = StoryDataset(train_data.select(range(8000)), tokenizer=tokenizer, block_size=256)\n",
    "test_dataset = StoryDataset(test_data.select(range(4000)), tokenizer=tokenizer, block_size=256)\n",
    "val_dataset = StoryDataset(val_data.select(range(3000)), tokenizer=tokenizer, block_size=256)"
   ]
  },
  {
   "cell_type": "code",
   "execution_count": 10,
   "metadata": {},
   "outputs": [
    {
     "name": "stdout",
     "output_type": "stream",
     "text": [
      "number of parameters: 124.44M\n"
     ]
    },
    {
     "data": {
      "text/plain": [
       "GPT(\n",
       "  (transformer): ModuleDict(\n",
       "    (wte): Embedding(50257, 768)\n",
       "    (wpe): Embedding(1024, 768)\n",
       "    (drop): Dropout(p=0.1, inplace=False)\n",
       "    (h): ModuleList(\n",
       "      (0-11): 12 x Block(\n",
       "        (ln_1): LayerNorm((768,), eps=1e-05, elementwise_affine=True)\n",
       "        (attn): CausalSelfAttention(\n",
       "          (c_attn): Linear(in_features=768, out_features=2304, bias=True)\n",
       "          (c_proj): Linear(in_features=768, out_features=768, bias=True)\n",
       "          (attn_dropout): Dropout(p=0.1, inplace=False)\n",
       "          (resid_dropout): Dropout(p=0.1, inplace=False)\n",
       "        )\n",
       "        (ln_2): LayerNorm((768,), eps=1e-05, elementwise_affine=True)\n",
       "        (mlp): ModuleDict(\n",
       "          (c_fc): Linear(in_features=768, out_features=3072, bias=True)\n",
       "          (c_proj): Linear(in_features=3072, out_features=768, bias=True)\n",
       "          (act): NewGELU()\n",
       "          (dropout): Dropout(p=0.1, inplace=False)\n",
       "        )\n",
       "      )\n",
       "    )\n",
       "    (ln_f): LayerNorm((768,), eps=1e-05, elementwise_affine=True)\n",
       "  )\n",
       "  (lm_head): Linear(in_features=768, out_features=50257, bias=False)\n",
       ")"
      ]
     },
     "execution_count": 10,
     "metadata": {},
     "output_type": "execute_result"
    }
   ],
   "source": [
    "model_type = 'gpt2'\n",
    "device = 'cuda'\n",
    "\n",
    "model = GPT.from_pretrained(model_type)\n",
    "model.to(device)"
   ]
  },
  {
   "cell_type": "code",
   "execution_count": 11,
   "metadata": {},
   "outputs": [],
   "source": [
    "def generate(prompt='', num_samples=1, steps=20, do_sample=True):\n",
    "    tokenizer = BPETokenizer()\n",
    "\n",
    "    if prompt == '':\n",
    "        x = torch.tensor([[tokenizer.encoder.encoder['<|endoftext|>']]], dtype=torch.long)\n",
    "    else:\n",
    "        x = tokenizer(prompt, return_tensors='pt', padding=True, truncation=True, max_length=len(prompt.split())).to(device)\n",
    "\n",
    "    x = x.expand(num_samples, -1)\n",
    "\n",
    "    y = model.generate(x, max_new_tokens=steps, do_sample=do_sample, top_k=40)\n",
    "\n",
    "    endoftext_token_id = tokenizer.encoder.encoder['<|endoftext|>']\n",
    "\n",
    "    for i in range(num_samples):\n",
    "        out = tokenizer.decode(y[i].cpu().squeeze())\n",
    "\n",
    "        out_tokens = y[i].cpu().squeeze().tolist()\n",
    "        \n",
    "        if endoftext_token_id in out_tokens:\n",
    "            end_pos = out_tokens.index(endoftext_token_id)\n",
    "            out = tokenizer.decode(y[i].cpu().squeeze()[:end_pos])\n",
    "\n",
    "        print('\\n' + '-' * 80)\n",
    "        print(out)"
   ]
  },
  {
   "cell_type": "markdown",
   "metadata": {},
   "source": [
    "# Finetuning"
   ]
  },
  {
   "cell_type": "code",
   "execution_count": 12,
   "metadata": {},
   "outputs": [
    {
     "name": "stdout",
     "output_type": "stream",
     "text": [
      "Running on device cuda\n"
     ]
    }
   ],
   "source": [
    "from mingpt.trainer import Trainer\n",
    "\n",
    "train_config = Trainer.get_default_config()\n",
    "train_config.learning_rate = 5e-5\n",
    "train_config.batch_size = 24\n",
    "train_config.max_iters = 500\n",
    "train_config.num_workers = 0\n",
    "train_config.eval_interval = 1\n",
    "train_config.log_iter = 100\n",
    "def collate_fn(batch):\n",
    "    x_batch, y_batch = zip(*batch)\n",
    "    return torch.stack(x_batch), torch.stack(y_batch)\n",
    "\n",
    "train_config.collate_fn = collate_fn\n",
    "trainer = Trainer(train_config, model, train_dataset, val_dataset)"
   ]
  },
  {
   "cell_type": "code",
   "execution_count": 13,
   "metadata": {},
   "outputs": [
    {
     "name": "stderr",
     "output_type": "stream",
     "text": [
      "\rTraining Progress:  80%|████████  | 401/500 [3:12:04<47:39, 28.89s/it]"
     ]
    },
    {
     "name": "stdout",
     "output_type": "stream",
     "text": [
      "Validation Loss: 1.3612\n"
     ]
    },
    {
     "name": "stderr",
     "output_type": "stream",
     "text": [
      "Training Progress:  80%|████████  | 402/500 [3:12:32<47:02, 28.80s/it]"
     ]
    },
    {
     "name": "stdout",
     "output_type": "stream",
     "text": [
      "iter_dt 0.00ms; iter 400: train loss 1.42212\n",
      "\n",
      "Validation Loss: 1.3607\n"
     ]
    },
    {
     "name": "stderr",
     "output_type": "stream",
     "text": [
      "Training Progress:  81%|████████  | 403/500 [3:13:01<46:34, 28.81s/it]"
     ]
    },
    {
     "name": "stdout",
     "output_type": "stream",
     "text": [
      "Validation Loss: 1.3605\n"
     ]
    },
    {
     "name": "stderr",
     "output_type": "stream",
     "text": [
      "Training Progress:  81%|████████  | 404/500 [3:13:30<46:06, 28.81s/it]"
     ]
    },
    {
     "name": "stdout",
     "output_type": "stream",
     "text": [
      "Validation Loss: 1.3605\n"
     ]
    },
    {
     "name": "stderr",
     "output_type": "stream",
     "text": [
      "Training Progress:  81%|████████  | 405/500 [3:13:59<45:37, 28.82s/it]"
     ]
    },
    {
     "name": "stdout",
     "output_type": "stream",
     "text": [
      "Validation Loss: 1.3605\n"
     ]
    },
    {
     "name": "stderr",
     "output_type": "stream",
     "text": [
      "Training Progress:  81%|████████  | 406/500 [3:14:28<45:08, 28.82s/it]"
     ]
    },
    {
     "name": "stdout",
     "output_type": "stream",
     "text": [
      "Validation Loss: 1.3603\n"
     ]
    },
    {
     "name": "stderr",
     "output_type": "stream",
     "text": [
      "Training Progress:  81%|████████▏ | 407/500 [3:14:57<44:39, 28.82s/it]"
     ]
    },
    {
     "name": "stdout",
     "output_type": "stream",
     "text": [
      "Validation Loss: 1.3600\n"
     ]
    },
    {
     "name": "stderr",
     "output_type": "stream",
     "text": [
      "Training Progress:  82%|████████▏ | 408/500 [3:15:25<44:10, 28.81s/it]"
     ]
    },
    {
     "name": "stdout",
     "output_type": "stream",
     "text": [
      "Validation Loss: 1.3595\n"
     ]
    },
    {
     "name": "stderr",
     "output_type": "stream",
     "text": [
      "Training Progress:  82%|████████▏ | 409/500 [3:15:54<43:41, 28.81s/it]"
     ]
    },
    {
     "name": "stdout",
     "output_type": "stream",
     "text": [
      "Validation Loss: 1.3590\n"
     ]
    },
    {
     "name": "stderr",
     "output_type": "stream",
     "text": [
      "Training Progress:  82%|████████▏ | 410/500 [3:16:23<43:13, 28.81s/it]"
     ]
    },
    {
     "name": "stdout",
     "output_type": "stream",
     "text": [
      "Validation Loss: 1.3581\n"
     ]
    },
    {
     "name": "stderr",
     "output_type": "stream",
     "text": [
      "Training Progress:  82%|████████▏ | 411/500 [3:16:52<42:43, 28.80s/it]"
     ]
    },
    {
     "name": "stdout",
     "output_type": "stream",
     "text": [
      "Validation Loss: 1.3572\n"
     ]
    },
    {
     "name": "stderr",
     "output_type": "stream",
     "text": [
      "Training Progress:  82%|████████▏ | 412/500 [3:17:21<42:13, 28.79s/it]"
     ]
    },
    {
     "name": "stdout",
     "output_type": "stream",
     "text": [
      "Validation Loss: 1.3565\n"
     ]
    },
    {
     "name": "stderr",
     "output_type": "stream",
     "text": [
      "Training Progress:  83%|████████▎ | 413/500 [3:17:49<41:44, 28.79s/it]"
     ]
    },
    {
     "name": "stdout",
     "output_type": "stream",
     "text": [
      "Validation Loss: 1.3560\n"
     ]
    },
    {
     "name": "stderr",
     "output_type": "stream",
     "text": [
      "Training Progress:  83%|████████▎ | 414/500 [3:18:18<41:15, 28.78s/it]"
     ]
    },
    {
     "name": "stdout",
     "output_type": "stream",
     "text": [
      "Validation Loss: 1.3559\n"
     ]
    },
    {
     "name": "stderr",
     "output_type": "stream",
     "text": [
      "Training Progress:  83%|████████▎ | 415/500 [3:18:47<40:46, 28.78s/it]"
     ]
    },
    {
     "name": "stdout",
     "output_type": "stream",
     "text": [
      "Validation Loss: 1.3560\n"
     ]
    },
    {
     "name": "stderr",
     "output_type": "stream",
     "text": [
      "Training Progress:  83%|████████▎ | 416/500 [3:19:16<40:17, 28.78s/it]"
     ]
    },
    {
     "name": "stdout",
     "output_type": "stream",
     "text": [
      "Validation Loss: 1.3562\n"
     ]
    },
    {
     "name": "stderr",
     "output_type": "stream",
     "text": [
      "Training Progress:  83%|████████▎ | 417/500 [3:19:44<39:48, 28.78s/it]"
     ]
    },
    {
     "name": "stdout",
     "output_type": "stream",
     "text": [
      "Validation Loss: 1.3566\n"
     ]
    },
    {
     "name": "stderr",
     "output_type": "stream",
     "text": [
      "Training Progress:  84%|████████▎ | 418/500 [3:20:13<39:19, 28.78s/it]"
     ]
    },
    {
     "name": "stdout",
     "output_type": "stream",
     "text": [
      "Validation Loss: 1.3570\n"
     ]
    },
    {
     "name": "stderr",
     "output_type": "stream",
     "text": [
      "Training Progress:  84%|████████▍ | 419/500 [3:20:42<38:50, 28.77s/it]"
     ]
    },
    {
     "name": "stdout",
     "output_type": "stream",
     "text": [
      "Validation Loss: 1.3581\n"
     ]
    },
    {
     "name": "stderr",
     "output_type": "stream",
     "text": [
      "Training Progress:  84%|████████▍ | 420/500 [3:21:11<38:21, 28.77s/it]"
     ]
    },
    {
     "name": "stdout",
     "output_type": "stream",
     "text": [
      "Validation Loss: 1.3589\n"
     ]
    },
    {
     "name": "stderr",
     "output_type": "stream",
     "text": [
      "Training Progress:  84%|████████▍ | 421/500 [3:21:40<37:53, 28.77s/it]"
     ]
    },
    {
     "name": "stdout",
     "output_type": "stream",
     "text": [
      "Validation Loss: 1.3589\n"
     ]
    },
    {
     "name": "stderr",
     "output_type": "stream",
     "text": [
      "Training Progress:  84%|████████▍ | 422/500 [3:22:08<37:24, 28.78s/it]"
     ]
    },
    {
     "name": "stdout",
     "output_type": "stream",
     "text": [
      "Validation Loss: 1.3582\n"
     ]
    },
    {
     "name": "stderr",
     "output_type": "stream",
     "text": [
      "Training Progress:  85%|████████▍ | 423/500 [3:22:37<36:55, 28.78s/it]"
     ]
    },
    {
     "name": "stdout",
     "output_type": "stream",
     "text": [
      "Validation Loss: 1.3574\n"
     ]
    },
    {
     "name": "stderr",
     "output_type": "stream",
     "text": [
      "Training Progress:  85%|████████▍ | 424/500 [3:23:06<36:26, 28.78s/it]"
     ]
    },
    {
     "name": "stdout",
     "output_type": "stream",
     "text": [
      "Validation Loss: 1.3562\n"
     ]
    },
    {
     "name": "stderr",
     "output_type": "stream",
     "text": [
      "Training Progress:  85%|████████▌ | 425/500 [3:23:35<35:58, 28.78s/it]"
     ]
    },
    {
     "name": "stdout",
     "output_type": "stream",
     "text": [
      "Validation Loss: 1.3550\n"
     ]
    },
    {
     "name": "stderr",
     "output_type": "stream",
     "text": [
      "Training Progress:  85%|████████▌ | 426/500 [3:24:03<35:30, 28.79s/it]"
     ]
    },
    {
     "name": "stdout",
     "output_type": "stream",
     "text": [
      "Validation Loss: 1.3540\n"
     ]
    },
    {
     "name": "stderr",
     "output_type": "stream",
     "text": [
      "Training Progress:  85%|████████▌ | 427/500 [3:24:32<35:02, 28.80s/it]"
     ]
    },
    {
     "name": "stdout",
     "output_type": "stream",
     "text": [
      "Validation Loss: 1.3530\n"
     ]
    },
    {
     "name": "stderr",
     "output_type": "stream",
     "text": [
      "Training Progress:  86%|████████▌ | 428/500 [3:25:01<34:34, 28.81s/it]"
     ]
    },
    {
     "name": "stdout",
     "output_type": "stream",
     "text": [
      "Validation Loss: 1.3523\n"
     ]
    },
    {
     "name": "stderr",
     "output_type": "stream",
     "text": [
      "Training Progress:  86%|████████▌ | 429/500 [3:25:30<34:05, 28.81s/it]"
     ]
    },
    {
     "name": "stdout",
     "output_type": "stream",
     "text": [
      "Validation Loss: 1.3519\n"
     ]
    },
    {
     "name": "stderr",
     "output_type": "stream",
     "text": [
      "Training Progress:  86%|████████▌ | 430/500 [3:25:59<33:37, 28.82s/it]"
     ]
    },
    {
     "name": "stdout",
     "output_type": "stream",
     "text": [
      "Validation Loss: 1.3519\n"
     ]
    },
    {
     "name": "stderr",
     "output_type": "stream",
     "text": [
      "Training Progress:  86%|████████▌ | 431/500 [3:26:28<33:08, 28.82s/it]"
     ]
    },
    {
     "name": "stdout",
     "output_type": "stream",
     "text": [
      "Validation Loss: 1.3521\n"
     ]
    },
    {
     "name": "stderr",
     "output_type": "stream",
     "text": [
      "Training Progress:  86%|████████▋ | 432/500 [3:26:56<32:39, 28.82s/it]"
     ]
    },
    {
     "name": "stdout",
     "output_type": "stream",
     "text": [
      "Validation Loss: 1.3523\n"
     ]
    },
    {
     "name": "stderr",
     "output_type": "stream",
     "text": [
      "Training Progress:  87%|████████▋ | 433/500 [3:27:25<32:11, 28.82s/it]"
     ]
    },
    {
     "name": "stdout",
     "output_type": "stream",
     "text": [
      "Validation Loss: 1.3526\n"
     ]
    },
    {
     "name": "stderr",
     "output_type": "stream",
     "text": [
      "Training Progress:  87%|████████▋ | 434/500 [3:27:54<31:42, 28.82s/it]"
     ]
    },
    {
     "name": "stdout",
     "output_type": "stream",
     "text": [
      "Validation Loss: 1.3532\n"
     ]
    },
    {
     "name": "stderr",
     "output_type": "stream",
     "text": [
      "Training Progress:  87%|████████▋ | 435/500 [3:28:23<31:13, 28.82s/it]"
     ]
    },
    {
     "name": "stdout",
     "output_type": "stream",
     "text": [
      "Validation Loss: 1.3538\n"
     ]
    },
    {
     "name": "stderr",
     "output_type": "stream",
     "text": [
      "Training Progress:  87%|████████▋ | 436/500 [3:28:52<30:44, 28.83s/it]"
     ]
    },
    {
     "name": "stdout",
     "output_type": "stream",
     "text": [
      "Validation Loss: 1.3543\n"
     ]
    },
    {
     "name": "stderr",
     "output_type": "stream",
     "text": [
      "Training Progress:  87%|████████▋ | 437/500 [3:29:21<30:15, 28.82s/it]"
     ]
    },
    {
     "name": "stdout",
     "output_type": "stream",
     "text": [
      "Validation Loss: 1.3548\n"
     ]
    },
    {
     "name": "stderr",
     "output_type": "stream",
     "text": [
      "Training Progress:  88%|████████▊ | 438/500 [3:29:49<29:47, 28.82s/it]"
     ]
    },
    {
     "name": "stdout",
     "output_type": "stream",
     "text": [
      "Validation Loss: 1.3549\n"
     ]
    },
    {
     "name": "stderr",
     "output_type": "stream",
     "text": [
      "Training Progress:  88%|████████▊ | 439/500 [3:30:18<29:18, 28.82s/it]"
     ]
    },
    {
     "name": "stdout",
     "output_type": "stream",
     "text": [
      "Validation Loss: 1.3549\n"
     ]
    },
    {
     "name": "stderr",
     "output_type": "stream",
     "text": [
      "Training Progress:  88%|████████▊ | 440/500 [3:30:47<28:49, 28.82s/it]"
     ]
    },
    {
     "name": "stdout",
     "output_type": "stream",
     "text": [
      "Validation Loss: 1.3544\n"
     ]
    },
    {
     "name": "stderr",
     "output_type": "stream",
     "text": [
      "Training Progress:  88%|████████▊ | 441/500 [3:31:16<28:20, 28.82s/it]"
     ]
    },
    {
     "name": "stdout",
     "output_type": "stream",
     "text": [
      "Validation Loss: 1.3538\n"
     ]
    },
    {
     "name": "stderr",
     "output_type": "stream",
     "text": [
      "Training Progress:  88%|████████▊ | 442/500 [3:31:45<27:51, 28.82s/it]"
     ]
    },
    {
     "name": "stdout",
     "output_type": "stream",
     "text": [
      "Validation Loss: 1.3538\n"
     ]
    },
    {
     "name": "stderr",
     "output_type": "stream",
     "text": [
      "Training Progress:  89%|████████▊ | 443/500 [3:32:13<27:22, 28.82s/it]"
     ]
    },
    {
     "name": "stdout",
     "output_type": "stream",
     "text": [
      "Validation Loss: 1.3540\n"
     ]
    },
    {
     "name": "stderr",
     "output_type": "stream",
     "text": [
      "Training Progress:  89%|████████▉ | 444/500 [3:32:42<26:54, 28.83s/it]"
     ]
    },
    {
     "name": "stdout",
     "output_type": "stream",
     "text": [
      "Validation Loss: 1.3545\n"
     ]
    },
    {
     "name": "stderr",
     "output_type": "stream",
     "text": [
      "Training Progress:  89%|████████▉ | 445/500 [3:33:11<26:25, 28.83s/it]"
     ]
    },
    {
     "name": "stdout",
     "output_type": "stream",
     "text": [
      "Validation Loss: 1.3539\n"
     ]
    },
    {
     "name": "stderr",
     "output_type": "stream",
     "text": [
      "Training Progress:  89%|████████▉ | 446/500 [3:33:40<25:56, 28.83s/it]"
     ]
    },
    {
     "name": "stdout",
     "output_type": "stream",
     "text": [
      "Validation Loss: 1.3527\n"
     ]
    },
    {
     "name": "stderr",
     "output_type": "stream",
     "text": [
      "Training Progress:  89%|████████▉ | 447/500 [3:34:09<25:28, 28.83s/it]"
     ]
    },
    {
     "name": "stdout",
     "output_type": "stream",
     "text": [
      "Validation Loss: 1.3511\n"
     ]
    },
    {
     "name": "stderr",
     "output_type": "stream",
     "text": [
      "Training Progress:  90%|████████▉ | 448/500 [3:34:38<24:59, 28.83s/it]"
     ]
    },
    {
     "name": "stdout",
     "output_type": "stream",
     "text": [
      "Validation Loss: 1.3509\n"
     ]
    },
    {
     "name": "stderr",
     "output_type": "stream",
     "text": [
      "Training Progress:  90%|████████▉ | 449/500 [3:35:06<24:30, 28.83s/it]"
     ]
    },
    {
     "name": "stdout",
     "output_type": "stream",
     "text": [
      "Validation Loss: 1.3516\n"
     ]
    },
    {
     "name": "stderr",
     "output_type": "stream",
     "text": [
      "Training Progress:  90%|█████████ | 450/500 [3:35:35<24:01, 28.83s/it]"
     ]
    },
    {
     "name": "stdout",
     "output_type": "stream",
     "text": [
      "Validation Loss: 1.3529\n"
     ]
    },
    {
     "name": "stderr",
     "output_type": "stream",
     "text": [
      "Training Progress:  90%|█████████ | 451/500 [3:36:04<23:32, 28.82s/it]"
     ]
    },
    {
     "name": "stdout",
     "output_type": "stream",
     "text": [
      "Validation Loss: 1.3533\n"
     ]
    },
    {
     "name": "stderr",
     "output_type": "stream",
     "text": [
      "Training Progress:  90%|█████████ | 452/500 [3:36:33<23:03, 28.82s/it]"
     ]
    },
    {
     "name": "stdout",
     "output_type": "stream",
     "text": [
      "Validation Loss: 1.3530\n"
     ]
    },
    {
     "name": "stderr",
     "output_type": "stream",
     "text": [
      "Training Progress:  91%|█████████ | 453/500 [3:37:02<22:34, 28.81s/it]"
     ]
    },
    {
     "name": "stdout",
     "output_type": "stream",
     "text": [
      "Validation Loss: 1.3524\n"
     ]
    },
    {
     "name": "stderr",
     "output_type": "stream",
     "text": [
      "Training Progress:  91%|█████████ | 454/500 [3:37:30<22:05, 28.81s/it]"
     ]
    },
    {
     "name": "stdout",
     "output_type": "stream",
     "text": [
      "Validation Loss: 1.3515\n"
     ]
    },
    {
     "name": "stderr",
     "output_type": "stream",
     "text": [
      "Training Progress:  91%|█████████ | 455/500 [3:37:59<21:36, 28.80s/it]"
     ]
    },
    {
     "name": "stdout",
     "output_type": "stream",
     "text": [
      "Validation Loss: 1.3512\n"
     ]
    },
    {
     "name": "stderr",
     "output_type": "stream",
     "text": [
      "Training Progress:  91%|█████████ | 456/500 [3:38:28<21:07, 28.80s/it]"
     ]
    },
    {
     "name": "stdout",
     "output_type": "stream",
     "text": [
      "Validation Loss: 1.3507\n"
     ]
    },
    {
     "name": "stderr",
     "output_type": "stream",
     "text": [
      "Training Progress:  91%|█████████▏| 457/500 [3:38:57<20:38, 28.80s/it]"
     ]
    },
    {
     "name": "stdout",
     "output_type": "stream",
     "text": [
      "Validation Loss: 1.3503\n"
     ]
    },
    {
     "name": "stderr",
     "output_type": "stream",
     "text": [
      "Training Progress:  92%|█████████▏| 458/500 [3:39:26<20:09, 28.80s/it]"
     ]
    },
    {
     "name": "stdout",
     "output_type": "stream",
     "text": [
      "Validation Loss: 1.3499\n"
     ]
    },
    {
     "name": "stderr",
     "output_type": "stream",
     "text": [
      "Training Progress:  92%|█████████▏| 459/500 [3:39:54<19:40, 28.80s/it]"
     ]
    },
    {
     "name": "stdout",
     "output_type": "stream",
     "text": [
      "Validation Loss: 1.3496\n"
     ]
    },
    {
     "name": "stderr",
     "output_type": "stream",
     "text": [
      "Training Progress:  92%|█████████▏| 460/500 [3:40:23<19:11, 28.80s/it]"
     ]
    },
    {
     "name": "stdout",
     "output_type": "stream",
     "text": [
      "Validation Loss: 1.3491\n"
     ]
    },
    {
     "name": "stderr",
     "output_type": "stream",
     "text": [
      "Training Progress:  92%|█████████▏| 461/500 [3:40:52<18:43, 28.80s/it]"
     ]
    },
    {
     "name": "stdout",
     "output_type": "stream",
     "text": [
      "Validation Loss: 1.3483\n"
     ]
    },
    {
     "name": "stderr",
     "output_type": "stream",
     "text": [
      "Training Progress:  92%|█████████▏| 462/500 [3:41:21<18:14, 28.80s/it]"
     ]
    },
    {
     "name": "stdout",
     "output_type": "stream",
     "text": [
      "Validation Loss: 1.3480\n"
     ]
    },
    {
     "name": "stderr",
     "output_type": "stream",
     "text": [
      "Training Progress:  93%|█████████▎| 463/500 [3:41:50<17:45, 28.80s/it]"
     ]
    },
    {
     "name": "stdout",
     "output_type": "stream",
     "text": [
      "Validation Loss: 1.3479\n"
     ]
    },
    {
     "name": "stderr",
     "output_type": "stream",
     "text": [
      "Training Progress:  93%|█████████▎| 464/500 [3:42:18<17:16, 28.80s/it]"
     ]
    },
    {
     "name": "stdout",
     "output_type": "stream",
     "text": [
      "Validation Loss: 1.3483\n"
     ]
    },
    {
     "name": "stderr",
     "output_type": "stream",
     "text": [
      "Training Progress:  93%|█████████▎| 465/500 [3:42:47<16:48, 28.80s/it]"
     ]
    },
    {
     "name": "stdout",
     "output_type": "stream",
     "text": [
      "Validation Loss: 1.3488\n"
     ]
    },
    {
     "name": "stderr",
     "output_type": "stream",
     "text": [
      "Training Progress:  93%|█████████▎| 466/500 [3:43:16<16:19, 28.80s/it]"
     ]
    },
    {
     "name": "stdout",
     "output_type": "stream",
     "text": [
      "Validation Loss: 1.3493\n"
     ]
    },
    {
     "name": "stderr",
     "output_type": "stream",
     "text": [
      "Training Progress:  93%|█████████▎| 467/500 [3:43:45<15:50, 28.80s/it]"
     ]
    },
    {
     "name": "stdout",
     "output_type": "stream",
     "text": [
      "Validation Loss: 1.3494\n"
     ]
    },
    {
     "name": "stderr",
     "output_type": "stream",
     "text": [
      "Training Progress:  94%|█████████▎| 468/500 [3:44:14<15:21, 28.80s/it]"
     ]
    },
    {
     "name": "stdout",
     "output_type": "stream",
     "text": [
      "Validation Loss: 1.3493\n"
     ]
    },
    {
     "name": "stderr",
     "output_type": "stream",
     "text": [
      "Training Progress:  94%|█████████▍| 469/500 [3:44:42<14:52, 28.80s/it]"
     ]
    },
    {
     "name": "stdout",
     "output_type": "stream",
     "text": [
      "Validation Loss: 1.3487\n"
     ]
    },
    {
     "name": "stderr",
     "output_type": "stream",
     "text": [
      "Training Progress:  94%|█████████▍| 470/500 [3:45:11<14:24, 28.80s/it]"
     ]
    },
    {
     "name": "stdout",
     "output_type": "stream",
     "text": [
      "Validation Loss: 1.3486\n"
     ]
    },
    {
     "name": "stderr",
     "output_type": "stream",
     "text": [
      "Training Progress:  94%|█████████▍| 471/500 [3:45:40<13:55, 28.80s/it]"
     ]
    },
    {
     "name": "stdout",
     "output_type": "stream",
     "text": [
      "Validation Loss: 1.3480\n"
     ]
    },
    {
     "name": "stderr",
     "output_type": "stream",
     "text": [
      "Training Progress:  94%|█████████▍| 472/500 [3:46:09<13:26, 28.79s/it]"
     ]
    },
    {
     "name": "stdout",
     "output_type": "stream",
     "text": [
      "Validation Loss: 1.3474\n"
     ]
    },
    {
     "name": "stderr",
     "output_type": "stream",
     "text": [
      "Training Progress:  95%|█████████▍| 473/500 [3:46:38<12:57, 28.80s/it]"
     ]
    },
    {
     "name": "stdout",
     "output_type": "stream",
     "text": [
      "Validation Loss: 1.3470\n"
     ]
    },
    {
     "name": "stderr",
     "output_type": "stream",
     "text": [
      "Training Progress:  95%|█████████▍| 474/500 [3:47:06<12:28, 28.80s/it]"
     ]
    },
    {
     "name": "stdout",
     "output_type": "stream",
     "text": [
      "Validation Loss: 1.3470\n"
     ]
    },
    {
     "name": "stderr",
     "output_type": "stream",
     "text": [
      "Training Progress:  95%|█████████▌| 475/500 [3:47:35<11:59, 28.80s/it]"
     ]
    },
    {
     "name": "stdout",
     "output_type": "stream",
     "text": [
      "Validation Loss: 1.3475\n"
     ]
    },
    {
     "name": "stderr",
     "output_type": "stream",
     "text": [
      "Training Progress:  95%|█████████▌| 476/500 [3:48:04<11:31, 28.80s/it]"
     ]
    },
    {
     "name": "stdout",
     "output_type": "stream",
     "text": [
      "Validation Loss: 1.3482\n"
     ]
    },
    {
     "name": "stderr",
     "output_type": "stream",
     "text": [
      "Training Progress:  95%|█████████▌| 477/500 [3:48:33<11:02, 28.80s/it]"
     ]
    },
    {
     "name": "stdout",
     "output_type": "stream",
     "text": [
      "Validation Loss: 1.3487\n"
     ]
    },
    {
     "name": "stderr",
     "output_type": "stream",
     "text": [
      "Training Progress:  96%|█████████▌| 478/500 [3:49:02<10:33, 28.80s/it]"
     ]
    },
    {
     "name": "stdout",
     "output_type": "stream",
     "text": [
      "Validation Loss: 1.3488\n"
     ]
    },
    {
     "name": "stderr",
     "output_type": "stream",
     "text": [
      "Training Progress:  96%|█████████▌| 479/500 [3:49:30<10:04, 28.80s/it]"
     ]
    },
    {
     "name": "stdout",
     "output_type": "stream",
     "text": [
      "Validation Loss: 1.3486\n"
     ]
    },
    {
     "name": "stderr",
     "output_type": "stream",
     "text": [
      "Training Progress:  96%|█████████▌| 480/500 [3:49:59<09:36, 28.84s/it]"
     ]
    },
    {
     "name": "stdout",
     "output_type": "stream",
     "text": [
      "Validation Loss: 1.3484\n"
     ]
    },
    {
     "name": "stderr",
     "output_type": "stream",
     "text": [
      "Training Progress:  96%|█████████▌| 481/500 [3:50:28<09:08, 28.86s/it]"
     ]
    },
    {
     "name": "stdout",
     "output_type": "stream",
     "text": [
      "Validation Loss: 1.3483\n"
     ]
    },
    {
     "name": "stderr",
     "output_type": "stream",
     "text": [
      "Training Progress:  96%|█████████▋| 482/500 [3:50:57<08:39, 28.88s/it]"
     ]
    },
    {
     "name": "stdout",
     "output_type": "stream",
     "text": [
      "Validation Loss: 1.3486\n"
     ]
    },
    {
     "name": "stderr",
     "output_type": "stream",
     "text": [
      "Training Progress:  97%|█████████▋| 483/500 [3:51:26<08:10, 28.85s/it]"
     ]
    },
    {
     "name": "stdout",
     "output_type": "stream",
     "text": [
      "Validation Loss: 1.3485\n"
     ]
    },
    {
     "name": "stderr",
     "output_type": "stream",
     "text": [
      "Training Progress:  97%|█████████▋| 484/500 [3:51:55<07:41, 28.83s/it]"
     ]
    },
    {
     "name": "stdout",
     "output_type": "stream",
     "text": [
      "Validation Loss: 1.3479\n"
     ]
    },
    {
     "name": "stderr",
     "output_type": "stream",
     "text": [
      "Training Progress:  97%|█████████▋| 485/500 [3:52:24<07:12, 28.82s/it]"
     ]
    },
    {
     "name": "stdout",
     "output_type": "stream",
     "text": [
      "Validation Loss: 1.3472\n"
     ]
    },
    {
     "name": "stderr",
     "output_type": "stream",
     "text": [
      "Training Progress:  97%|█████████▋| 486/500 [3:52:52<06:43, 28.82s/it]"
     ]
    },
    {
     "name": "stdout",
     "output_type": "stream",
     "text": [
      "Validation Loss: 1.3465\n"
     ]
    },
    {
     "name": "stderr",
     "output_type": "stream",
     "text": [
      "Training Progress:  97%|█████████▋| 487/500 [3:53:21<06:14, 28.81s/it]"
     ]
    },
    {
     "name": "stdout",
     "output_type": "stream",
     "text": [
      "Validation Loss: 1.3460\n"
     ]
    },
    {
     "name": "stderr",
     "output_type": "stream",
     "text": [
      "Training Progress:  98%|█████████▊| 488/500 [3:53:50<05:45, 28.81s/it]"
     ]
    },
    {
     "name": "stdout",
     "output_type": "stream",
     "text": [
      "Validation Loss: 1.3457\n"
     ]
    },
    {
     "name": "stderr",
     "output_type": "stream",
     "text": [
      "Training Progress:  98%|█████████▊| 489/500 [3:54:19<05:16, 28.81s/it]"
     ]
    },
    {
     "name": "stdout",
     "output_type": "stream",
     "text": [
      "Validation Loss: 1.3452\n"
     ]
    },
    {
     "name": "stderr",
     "output_type": "stream",
     "text": [
      "Training Progress:  98%|█████████▊| 490/500 [3:54:48<04:48, 28.81s/it]"
     ]
    },
    {
     "name": "stdout",
     "output_type": "stream",
     "text": [
      "Validation Loss: 1.3448\n"
     ]
    },
    {
     "name": "stderr",
     "output_type": "stream",
     "text": [
      "Training Progress:  98%|█████████▊| 491/500 [3:55:16<04:19, 28.81s/it]"
     ]
    },
    {
     "name": "stdout",
     "output_type": "stream",
     "text": [
      "Validation Loss: 1.3446\n"
     ]
    },
    {
     "name": "stderr",
     "output_type": "stream",
     "text": [
      "Training Progress:  98%|█████████▊| 492/500 [3:55:45<03:50, 28.81s/it]"
     ]
    },
    {
     "name": "stdout",
     "output_type": "stream",
     "text": [
      "Validation Loss: 1.3446\n"
     ]
    },
    {
     "name": "stderr",
     "output_type": "stream",
     "text": [
      "Training Progress:  99%|█████████▊| 493/500 [3:56:14<03:21, 28.81s/it]"
     ]
    },
    {
     "name": "stdout",
     "output_type": "stream",
     "text": [
      "Validation Loss: 1.3446\n"
     ]
    },
    {
     "name": "stderr",
     "output_type": "stream",
     "text": [
      "Training Progress:  99%|█████████▉| 494/500 [3:56:43<02:52, 28.80s/it]"
     ]
    },
    {
     "name": "stdout",
     "output_type": "stream",
     "text": [
      "Validation Loss: 1.3445\n"
     ]
    },
    {
     "name": "stderr",
     "output_type": "stream",
     "text": [
      "Training Progress:  99%|█████████▉| 495/500 [3:57:12<02:24, 28.80s/it]"
     ]
    },
    {
     "name": "stdout",
     "output_type": "stream",
     "text": [
      "Validation Loss: 1.3446\n"
     ]
    },
    {
     "name": "stderr",
     "output_type": "stream",
     "text": [
      "Training Progress:  99%|█████████▉| 496/500 [3:57:40<01:55, 28.80s/it]"
     ]
    },
    {
     "name": "stdout",
     "output_type": "stream",
     "text": [
      "Validation Loss: 1.3446\n"
     ]
    },
    {
     "name": "stderr",
     "output_type": "stream",
     "text": [
      "Training Progress:  99%|█████████▉| 497/500 [3:58:09<01:26, 28.80s/it]"
     ]
    },
    {
     "name": "stdout",
     "output_type": "stream",
     "text": [
      "Validation Loss: 1.3442\n"
     ]
    },
    {
     "name": "stderr",
     "output_type": "stream",
     "text": [
      "Training Progress: 100%|█████████▉| 498/500 [3:58:38<00:57, 28.80s/it]"
     ]
    },
    {
     "name": "stdout",
     "output_type": "stream",
     "text": [
      "Validation Loss: 1.3438\n"
     ]
    },
    {
     "name": "stderr",
     "output_type": "stream",
     "text": [
      "Training Progress: 100%|█████████▉| 499/500 [3:59:07<00:28, 28.80s/it]"
     ]
    },
    {
     "name": "stdout",
     "output_type": "stream",
     "text": [
      "Validation Loss: 1.3438\n"
     ]
    },
    {
     "name": "stderr",
     "output_type": "stream",
     "text": [
      "Training Progress: 100%|██████████| 500/500 [3:59:36<00:00, 28.80s/it]"
     ]
    },
    {
     "name": "stdout",
     "output_type": "stream",
     "text": [
      "Validation Loss: 1.3440\n"
     ]
    },
    {
     "name": "stderr",
     "output_type": "stream",
     "text": [
      "Training Progress: 100%|██████████| 500/500 [4:00:04<00:00, 28.81s/it]"
     ]
    },
    {
     "name": "stdout",
     "output_type": "stream",
     "text": [
      "Training finished!\n"
     ]
    },
    {
     "name": "stderr",
     "output_type": "stream",
     "text": [
      "\n"
     ]
    }
   ],
   "source": [
    "losses = []\n",
    "def batch_end_callback(trainer):\n",
    "    losses.append(trainer.loss.item())\n",
    "    if trainer.iter_num % 100 == 0:\n",
    "        print(f\"iter_dt {trainer.iter_dt * 1000:.2f}ms; iter {trainer.iter_num}: train loss {trainer.loss.item():.5f}\\n\")\n",
    "trainer.set_callback('on_batch_end', batch_end_callback)\n",
    "\n",
    "trainer.run()"
   ]
  },
  {
   "cell_type": "markdown",
   "metadata": {},
   "source": [
    "# Save the model"
   ]
  },
  {
   "cell_type": "code",
   "execution_count": null,
   "metadata": {},
   "outputs": [],
   "source": [
    "save_path = \"./saved_model\"\n",
    "model.save(save_path)"
   ]
  },
  {
   "cell_type": "markdown",
   "metadata": {},
   "source": [
    "# Evaluations"
   ]
  },
  {
   "cell_type": "code",
   "execution_count": 14,
   "metadata": {},
   "outputs": [
    {
     "name": "stdout",
     "output_type": "stream",
     "text": [
      "[5.05987024307251, 3.161884307861328, 2.2083654403686523, 1.9456908702850342, 1.7692450284957886, 1.7914812564849854, 1.794234275817871, 1.8392390012741089, 1.9325907230377197, 1.863972544670105, 1.7191802263259888, 1.7072527408599854, 1.7058500051498413, 1.634757161140442, 1.7632590532302856, 1.7957216501235962, 1.6902329921722412, 1.7192598581314087, 1.7313144207000732, 1.7205241918563843, 1.7780678272247314, 1.5276695489883423, 1.7076867818832397, 1.6744614839553833, 1.500742793083191, 1.5596320629119873, 1.6117428541183472, 1.7145359516143799, 1.7228761911392212, 1.6198005676269531, 1.490304708480835, 1.5954926013946533, 1.570942759513855, 1.5433745384216309, 1.5889798402786255, 1.702252745628357, 1.6106988191604614, 1.5647367238998413, 1.5925887823104858, 1.580786943435669, 1.4911737442016602, 1.6102832555770874, 1.5543930530548096, 1.6151669025421143, 1.5412770509719849, 1.5573419332504272, 1.5890618562698364, 1.581226110458374, 1.5294193029403687, 1.694804310798645, 1.5629749298095703, 1.5695546865463257, 1.5462496280670166, 1.4893715381622314, 1.5578206777572632, 1.4533028602600098, 1.526429533958435, 1.5384358167648315, 1.6104377508163452, 1.6373616456985474, 1.4798805713653564, 1.4806054830551147, 1.3769009113311768, 1.4005811214447021, 1.559950590133667, 1.455601692199707, 1.6051279306411743, 1.6670688390731812, 1.4617066383361816, 1.471337080001831, 1.6769332885742188, 1.5240957736968994, 1.6013389825820923, 1.6575329303741455, 1.601900339126587, 1.4814492464065552, 1.4290345907211304, 1.4064491987228394, 1.4909700155258179, 1.6037338972091675, 1.510595440864563, 1.451757550239563, 1.526689052581787, 1.4229040145874023, 1.5688050985336304, 1.4986982345581055, 1.4558215141296387, 1.6440958976745605, 1.5035499334335327, 1.5661325454711914, 1.5309317111968994, 1.4986040592193604, 1.5109665393829346, 1.4236265420913696, 1.399073839187622, 1.4537593126296997, 1.5974770784378052, 1.6735068559646606, 1.3847370147705078, 1.5776515007019043, 1.4397704601287842, 1.4132102727890015, 1.3937982320785522, 1.4648209810256958, 1.470190405845642, 1.502062439918518, 1.5083966255187988, 1.5485073328018188, 1.384682297706604, 1.493489384651184, 1.5621939897537231, 1.5005000829696655, 1.5560129880905151, 1.5339818000793457, 1.4069457054138184, 1.4034711122512817, 1.4849786758422852, 1.5715092420578003, 1.3815860748291016, 1.3997634649276733, 1.5457080602645874, 1.4679100513458252, 1.3127399682998657, 1.5004619359970093, 1.4615930318832397, 1.4424383640289307, 1.619895339012146, 1.4746404886245728, 1.4367156028747559, 1.4752157926559448, 1.4482886791229248, 1.386725902557373, 1.3982465267181396, 1.3120065927505493, 1.3965823650360107, 1.3846818208694458, 1.3680140972137451, 1.4471360445022583, 1.4579968452453613, 1.5404150485992432, 1.460627794265747, 1.4302507638931274, 1.4334264993667603, 1.5026675462722778, 1.6114354133605957, 1.4890508651733398, 1.379944920539856, 1.421257495880127, 1.4321283102035522, 1.433241605758667, 1.5004853010177612, 1.4249430894851685, 1.5007086992263794, 1.6006264686584473, 1.470907211303711, 1.3756009340286255, 1.539679765701294, 1.4064419269561768, 1.5491273403167725, 1.4685181379318237, 1.350502848625183, 1.4141325950622559, 1.5762345790863037, 1.4255003929138184, 1.380353569984436, 1.5311657190322876, 1.3905664682388306, 1.445757508277893, 1.5301367044448853, 1.6625968217849731, 1.5584018230438232, 1.4446735382080078, 1.5240665674209595, 1.5036861896514893, 1.492133617401123, 1.3890163898468018, 1.682914137840271, 1.4424564838409424, 1.4590791463851929, 1.4699509143829346, 1.4557015895843506, 1.512062430381775, 1.4535231590270996, 1.4245578050613403, 1.5240812301635742, 1.5009404420852661, 1.5695542097091675, 1.403036117553711, 1.4856749773025513, 1.4059677124023438, 1.4786349534988403, 1.5459568500518799, 1.3668935298919678, 1.524497151374817, 1.3603111505508423, 1.517967939376831, 1.3428857326507568, 1.476820945739746, 1.4791157245635986, 1.4379444122314453, 1.5758932828903198, 1.3085641860961914, 1.2973631620407104, 1.3523794412612915, 1.5065699815750122, 1.407934308052063, 1.4437320232391357, 1.383267879486084, 1.5124459266662598, 1.4632946252822876, 1.5414732694625854, 1.3813023567199707, 1.4330799579620361, 1.4710862636566162, 1.4897338151931763, 1.4113051891326904, 1.4180848598480225, 1.3205119371414185, 1.3700668811798096, 1.3965187072753906, 1.4668138027191162, 1.578589677810669, 1.482381820678711, 1.3519566059112549, 1.422695517539978, 1.553122639656067, 1.4113919734954834, 1.4252134561538696, 1.3692626953125, 1.2584065198898315, 1.5096454620361328, 1.2497844696044922, 1.4746240377426147, 1.4145063161849976, 1.4214346408843994, 1.3492447137832642, 1.449725866317749, 1.3599390983581543, 1.4594664573669434, 1.3787564039230347, 1.4273600578308105, 1.4123131036758423, 1.4029035568237305, 1.392067551612854, 1.3067436218261719, 1.4249027967453003, 1.4942333698272705, 1.520117163658142, 1.5583178997039795, 1.4459365606307983, 1.5193196535110474, 1.3574676513671875, 1.3224003314971924, 1.353053331375122, 1.2718068361282349, 1.3167872428894043, 1.2733278274536133, 1.4452513456344604, 1.269572377204895, 1.3827221393585205, 1.455998182296753, 1.3964914083480835, 1.4196608066558838, 1.4233324527740479, 1.4669198989868164, 1.4391114711761475, 1.520084261894226, 1.422069787979126, 1.4337120056152344, 1.3339465856552124, 1.4466303586959839, 1.4158116579055786, 1.3855912685394287, 1.3845399618148804, 1.2683836221694946, 1.2780739068984985, 1.391757607460022, 1.3997876644134521, 1.332751750946045, 1.4084784984588623, 1.1996333599090576, 1.4829130172729492, 1.301759123802185, 1.342475414276123, 1.3341399431228638, 1.4920802116394043, 1.3479890823364258, 1.4514856338500977, 1.4765008687973022, 1.4304057359695435, 1.269028902053833, 1.3305906057357788, 1.3865236043930054, 1.5126855373382568, 1.311092734336853, 1.2256760597229004, 1.3513363599777222, 1.388826608657837, 1.3652212619781494, 1.2829786539077759, 1.3396598100662231, 1.3913966417312622, 1.3471717834472656, 1.4594720602035522, 1.2824409008026123, 1.4289093017578125, 1.445920467376709, 1.345808744430542, 1.4108896255493164, 1.2745717763900757, 1.4001048803329468, 1.379862904548645, 1.5696923732757568, 1.3707473278045654, 1.3399680852890015, 1.4095629453659058, 1.3315260410308838, 1.4096462726593018, 1.3753606081008911, 1.369781494140625, 1.4770009517669678, 1.3583242893218994, 1.266170620918274, 1.3701952695846558, 1.4148046970367432, 1.3776520490646362, 1.4320427179336548, 1.4301871061325073, 1.4007809162139893, 1.3756922483444214, 1.3468332290649414, 1.502465844154358, 1.3704519271850586, 1.265030026435852, 1.4686429500579834, 1.3615500926971436, 1.4341667890548706, 1.3197917938232422, 1.428981065750122, 1.352679967880249, 1.504536747932434, 1.4718016386032104, 1.3034946918487549, 1.3707224130630493, 1.3899602890014648, 1.270467758178711, 1.2804828882217407, 1.3875402212142944, 1.3195338249206543, 1.2307040691375732, 1.444016695022583, 1.3840675354003906, 1.3969831466674805, 1.4268088340759277, 1.3776441812515259, 1.3857415914535522, 1.3276641368865967, 1.4894845485687256, 1.4269464015960693, 1.385900855064392, 1.3746836185455322, 1.4423925876617432, 1.489176630973816, 1.4204256534576416, 1.291260838508606, 1.4469876289367676, 1.4562588930130005, 1.4473776817321777, 1.3708178997039795, 1.3029301166534424, 1.3639702796936035, 1.3934139013290405, 1.4137755632400513, 1.27634859085083, 1.2527436017990112, 1.3275833129882812, 1.4748302698135376, 1.4574753046035767, 1.2272878885269165, 1.3909235000610352, 1.4035497903823853, 1.4929543733596802, 1.337848424911499, 1.3728493452072144, 1.4494311809539795, 1.4141424894332886, 1.4487673044204712, 1.3451253175735474, 1.2438175678253174, 1.3460254669189453, 1.5230478048324585, 1.35712730884552, 1.4085025787353516, 1.363338589668274, 1.2262043952941895, 1.342747449874878, 1.5255597829818726, 1.2749996185302734, 1.446414589881897, 1.286285638809204, 1.4221163988113403, 1.3279671669006348, 1.3079640865325928, 1.4915958642959595, 1.3849753141403198, 1.4265413284301758, 1.5128220319747925, 1.3967448472976685, 1.398776888847351, 1.4737874269485474, 1.3651988506317139, 1.4532370567321777, 1.3295241594314575, 1.3924769163131714, 1.4558652639389038, 1.239907145500183, 1.2211436033248901, 1.3104432821273804, 1.4250555038452148, 1.3541979789733887, 1.3592007160186768, 1.2850704193115234, 1.2804739475250244, 1.3715925216674805, 1.4148633480072021, 1.3607523441314697, 1.2372543811798096, 1.4435880184173584, 1.3645178079605103, 1.4634796380996704, 1.3490188121795654, 1.3195229768753052, 1.1901508569717407, 1.360262393951416, 1.3400342464447021, 1.424757719039917, 1.4467449188232422, 1.442046880722046, 1.3740531206130981, 1.341575264930725, 1.2736042737960815, 1.3492355346679688, 1.280394196510315, 1.3419511318206787, 1.3219037055969238, 1.4348446130752563, 1.3635919094085693, 1.3508903980255127, 1.3290362358093262, 1.3576017618179321, 1.4069530963897705, 1.3709343671798706, 1.4108636379241943, 1.4270622730255127, 1.3593533039093018, 1.4612237215042114, 1.272994041442871, 1.4493294954299927, 1.3582195043563843, 1.3710650205612183, 1.3171501159667969, 1.3812109231948853, 1.371712565422058, 1.4134163856506348, 1.456552267074585, 1.3977515697479248, 1.405211091041565, 1.4473432302474976, 1.1824263334274292, 1.399804711341858, 1.4336050748825073, 1.417948842048645, 1.3226046562194824, 1.3699272871017456, 1.436843991279602, 1.346295952796936, 1.3282240629196167, 1.2225239276885986, 1.305709958076477, 1.3640114068984985, 1.3049442768096924, 1.4444859027862549, 1.449981689453125, 1.342086672782898, 1.3609355688095093, 1.3154220581054688, 1.3416790962219238, 1.5155448913574219, 1.4684736728668213, 1.2235418558120728, 1.3335492610931396, 1.2930505275726318, 1.3572169542312622, 1.2879090309143066, 1.385918378829956, 1.3294857740402222, 1.4242037534713745, 1.4387927055358887, 1.2871073484420776, 1.283487319946289]\n",
      "[5.099488254547119, 2.950398124694824, 2.0775663003921507, 1.85251429271698, 1.7795983562469482, 1.7437436065673828, 1.722883557319641, 1.7074980640411377, 1.693204927444458, 1.6812750406265258, 1.669817765235901, 1.658643795967102, 1.6478426656723022, 1.6381816959381104, 1.630187834739685, 1.6235103054046631, 1.6167730016708375, 1.6102321033477782, 1.604828122138977, 1.6007118835449219, 1.5972447710037232, 1.5937461977005005, 1.5891813859939574, 1.5840445709228517, 1.5787757520675658, 1.5738074150085448, 1.5702513990402223, 1.567531213760376, 1.5642417192459106, 1.5598726663589477, 1.5555062217712403, 1.5513308734893798, 1.5474499063491822, 1.543750867843628, 1.5400782375335693, 1.5370403251647948, 1.5348532361984253, 1.5330110940933228, 1.5312267560958863, 1.5296154289245605, 1.5272380857467651, 1.5247546663284302, 1.5219681587219238, 1.519516520500183, 1.5173265552520752, 1.5153530464172362, 1.5133091859817505, 1.5115444288253783, 1.5102464876174926, 1.50908918094635, 1.507446767807007, 1.5058674850463867, 1.5043184814453125, 1.5022850980758666, 1.5003263149261474, 1.498725378036499, 1.4975459327697753, 1.4966757736206056, 1.4961998691558838, 1.4952926025390625, 1.4938764352798461, 1.4930111083984374, 1.4922513113021851, 1.4918743915557862, 1.4914977760314942, 1.4908311920166015, 1.488838418006897, 1.4865868320465088, 1.484197494506836, 1.4822485790252686, 1.4807859859466552, 1.4788793115615844, 1.4771387357711792, 1.4761737451553345, 1.4761735916137695, 1.4767232513427735, 1.4775313625335693, 1.4777260446548461, 1.4768429040908813, 1.4756584806442261, 1.4746069192886353, 1.4739870843887328, 1.4730343894958495, 1.4712416324615478, 1.4684898376464843, 1.4662519569396972, 1.4652395820617676, 1.4654060802459716, 1.4660653324127197, 1.465903911590576, 1.4655900230407715, 1.4645645236968994, 1.4629912900924682, 1.4623493280410766, 1.4622266664505006, 1.462383445739746, 1.4620875988006592, 1.461448631286621, 1.4599643840789795, 1.457843765258789, 1.4558408479690552, 1.4552042398452758, 1.4553762130737304, 1.4553093852996826, 1.454546835899353, 1.4534061431884766, 1.4519578199386596, 1.4508196201324464, 1.4497172288894653, 1.4491192998886109, 1.4485495109558106, 1.4484098615646361, 1.4479910879135132, 1.4470794258117676, 1.4460287303924562, 1.4446879835128785, 1.443654640197754, 1.4429399604797364, 1.442534457206726, 1.4425260400772095, 1.4427506113052369, 1.4428434400558472, 1.442780574798584, 1.4427929153442383, 1.442280421257019, 1.440967519760132, 1.4400287752151488, 1.4398992958068848, 1.4394464960098268, 1.438898853302002, 1.4379469604492188, 1.4375142707824706, 1.4373087005615235, 1.4371384744644164, 1.4361730794906615, 1.4351812524795533, 1.4348177032470704, 1.4346961574554444, 1.4341226072311402, 1.4326584777832032, 1.4307177419662476, 1.4293556280136108, 1.4287548274993898, 1.4283470649719239, 1.428366823196411, 1.4280431308746337, 1.4276343660354613, 1.4273255500793458, 1.4268177947998046, 1.4261359844207764, 1.4251825761795045, 1.424350993156433, 1.4237534503936768, 1.4229116621017457, 1.4217779369354249, 1.42132124710083, 1.4220556392669679, 1.4224097089767456, 1.4225185995101928, 1.4224132776260376, 1.4218838758468628, 1.4208190898895263, 1.4198947410583496, 1.4190077123641969, 1.418281276702881, 1.417751088142395, 1.4171977491378784, 1.4168728437423705, 1.4168906440734863, 1.4170688877105713, 1.4173829097747803, 1.4177228021621704, 1.417598666191101, 1.4173249158859254, 1.4167029027938842, 1.4163386688232422, 1.4156262073516845, 1.4146148195266723, 1.41409885597229, 1.413699338912964, 1.4131830129623413, 1.4126912488937378, 1.412432123184204, 1.4123440809249879, 1.4120325269699097, 1.4117886514663696, 1.4116072263717652, 1.4104956064224243, 1.4093135976791382, 1.408397599220276, 1.4074829015731811, 1.4072614049911498, 1.4072113418579102, 1.4073936729431151, 1.407156639099121, 1.4073537921905517, 1.4079254961013794, 1.4083536167144775, 1.4081595392227173, 1.407399006843567, 1.4063331575393676, 1.4053680810928344, 1.4045574655532838, 1.4041022634506226, 1.4041962242126464, 1.4042650117874145, 1.4041183071136474, 1.4035176849365234, 1.4028462657928467, 1.402303381919861, 1.4021049871444702, 1.4023251514434814, 1.4024346361160278, 1.4029176683425904, 1.4027647171020508, 1.4021265783309937, 1.4010425500869752, 1.4003938884735108, 1.4000148496627807, 1.4003573303222656, 1.4008040990829467, 1.400412444114685, 1.3996059217453003, 1.39874165058136, 1.3985484619140625, 1.3987513952255248, 1.3984828691482545, 1.3974696226119996, 1.3963952808380127, 1.3960893259048461, 1.396799160003662, 1.396563220024109, 1.395637451171875, 1.3945255699157715, 1.393617127418518, 1.3932803220748902, 1.39366339302063, 1.3943737602233888, 1.3944508609771729, 1.3945128774642945, 1.393964550971985, 1.393628158569336, 1.3931879739761353, 1.3927580184936523, 1.3923594789505005, 1.3918250875473022, 1.3911544342041016, 1.391257905960083, 1.3914008235931397, 1.3917690057754517, 1.392321494102478, 1.3915746173858643, 1.3905689134597778, 1.3899557075500488, 1.3893562698364257, 1.3888050737380981, 1.3881918802261353, 1.3878973722457886, 1.3869904394149781, 1.3854936561584472, 1.3843416833877564, 1.3837130556106567, 1.3836414880752563, 1.3838017711639403, 1.3838498106002808, 1.3836373500823975, 1.3835912885665893, 1.3838431386947632, 1.3840942316055298, 1.3844294090270997, 1.384358829498291, 1.3839533519744873, 1.3836352357864379, 1.3837766199111938, 1.383572367668152, 1.3830935754776001, 1.3828635454177856, 1.3833492803573608, 1.3837357501983643, 1.3836995553970337, 1.383352017402649, 1.3835009269714356, 1.383267472267151, 1.3827229919433595, 1.382152509689331, 1.3815374946594239, 1.3808176202774047, 1.3801568918228149, 1.3794739332199097, 1.3790389738082887, 1.3791211757659911, 1.3793954305648803, 1.3797949256896973, 1.3801182317733764, 1.3800517339706422, 1.3798838453292848, 1.3802469921112062, 1.3806445274353027, 1.3803793983459474, 1.3798083963394165, 1.379260787010193, 1.3792417964935302, 1.3795752124786378, 1.3797507772445678, 1.3795869817733766, 1.3790205421447754, 1.3779499444961547, 1.3771789293289185, 1.3762501745223998, 1.375737985610962, 1.3754015789031981, 1.374401580810547, 1.3740414247512818, 1.3745482902526855, 1.3754091987609862, 1.3760202875137328, 1.3758476543426514, 1.3756031560897828, 1.37636669921875, 1.3769707689285278, 1.3761895036697387, 1.3747751426696777, 1.3730266399383544, 1.3720797967910767, 1.3716593618392945, 1.3717139053344727, 1.3722008199691773, 1.3719906167984008, 1.3716877088546753, 1.3716131687164306, 1.3717811908721924, 1.3721431608200074, 1.3720624513626098, 1.3717259664535522, 1.3710660972595214, 1.370467740058899, 1.370051344871521, 1.3703900966644287, 1.3706759767532348, 1.3713581552505494, 1.371690266609192, 1.3713200883865357, 1.3703789873123169, 1.3695819911956788, 1.3688610868453979, 1.3681889295578002, 1.36761110496521, 1.3671657991409303, 1.3667154960632324, 1.366790533065796, 1.3674031028747557, 1.3680527143478394, 1.3687246522903442, 1.3693001890182495, 1.3696465883255005, 1.3695824546813964, 1.3691557989120484, 1.3683242483139038, 1.3669779834747315, 1.3659635753631592, 1.365152527809143, 1.3648197298049927, 1.364560378074646, 1.3643125658035278, 1.3645470743179322, 1.3650031805038452, 1.3655994358062744, 1.3662866401672362, 1.3668613929748534, 1.3665675678253173, 1.3659057426452637, 1.3651918268203735, 1.364329418182373, 1.3635467653274536, 1.3633145036697387, 1.3632800664901734, 1.36332830619812, 1.3631376361846923, 1.3627639760971069, 1.3625703134536744, 1.3622319374084473, 1.3619022674560546, 1.3613884048461915, 1.3608607664108276, 1.3608935918807983, 1.3606130390167237, 1.3604556560516357, 1.3601672792434691, 1.3599763860702514, 1.3599029760360717, 1.360170750617981, 1.3600453662872314, 1.3599382848739625, 1.3596396522521972, 1.35954372215271, 1.3601876430511475, 1.361115957260132, 1.3617259960174561, 1.3618979415893555, 1.3614663534164428, 1.361194182395935, 1.3607257957458496, 1.3604542694091797, 1.360504002571106, 1.36046732711792, 1.360263445854187, 1.3599891052246094, 1.3595315027236938, 1.3590370922088624, 1.358112078666687, 1.357168375968933, 1.3564749031066894, 1.3560013542175293, 1.355868127822876, 1.3560096044540406, 1.3562486209869384, 1.3565577344894408, 1.3569992303848266, 1.35806725025177, 1.3588545236587524, 1.3589030981063843, 1.3582311115264893, 1.3574365339279175, 1.3561617059707642, 1.3549755096435547, 1.3539700870513915, 1.3530032968521117, 1.352273648262024, 1.3518896408081054, 1.3519226102828978, 1.352073353767395, 1.3523191022872925, 1.352614073753357, 1.3531907691955567, 1.353809383392334, 1.3542781744003296, 1.3548010797500611, 1.3549146127700806, 1.3548777713775635, 1.354354501724243, 1.3538490352630614, 1.35380136013031, 1.354039963722229, 1.354484233856201, 1.3538922481536866, 1.352669672012329, 1.3511128978729248, 1.3508519153594971, 1.3516039390563965, 1.3528687000274657, 1.3533246612548828, 1.353043462753296, 1.3523522090911866, 1.351505567550659, 1.3511686525344848, 1.350739278793335, 1.3503144674301149, 1.3499285078048706, 1.349630199432373, 1.3490609016418458, 1.3483264093399048, 1.3480464372634888, 1.3479410619735719, 1.3483338117599488, 1.348761305809021, 1.3493302040100097, 1.3494334449768066, 1.3493169612884521, 1.348725887298584, 1.348623574256897, 1.3479950084686279, 1.3473563632965089, 1.3469734869003296, 1.3470277061462403, 1.347515926361084, 1.348238392829895, 1.3486791067123414, 1.3488240604400634, 1.3485574340820312, 1.3483656158447266, 1.3483211193084716, 1.3485987310409546, 1.3485029182434083, 1.3479027318954468, 1.3471953315734864, 1.3465150308609009, 1.3459555320739747, 1.3456779708862305, 1.3452080602645875, 1.344843716621399, 1.3446266984939574, 1.3446254596710205, 1.3445663871765137, 1.3445305194854735, 1.3445770826339722, 1.3445686683654785, 1.3442116298675537, 1.3438488483428954, 1.343790467262268, 1.344034333229065]\n"
     ]
    }
   ],
   "source": [
    "print(losses)\n",
    "print(trainer.val_losses)"
   ]
  },
  {
   "cell_type": "markdown",
   "metadata": {},
   "source": [
    "### Training and Validation Loss"
   ]
  },
  {
   "cell_type": "code",
   "execution_count": 3,
   "metadata": {},
   "outputs": [
    {
     "data": {
      "image/png": "[encoded data removed]",
      "text/plain": [
       "<Figure size 1000x500 with 1 Axes>"
      ]
     },
     "metadata": {},
     "output_type": "display_data"
    }
   ],
   "source": [
    "def plot_loss(iterations, train_losses, val_losses):\n",
    "    plt.figure(figsize=(10, 5))\n",
    "    \n",
    "    plt.plot(iterations, train_losses, label=\"Training Loss\", color='blue')\n",
    "    \n",
    "    plt.plot(iterations, val_losses, label=\"Validation Loss\", color='red', linestyle='dashed')\n",
    "    \n",
    "    plt.xlabel(\"Iterations\")\n",
    "    plt.ylabel(\"Loss\")\n",
    "    plt.title(\"Training and Validation Loss Over Iterations\")\n",
    "    plt.legend()\n",
    "    plt.grid(True)\n",
    "    plt.show()\n",
    "\n",
    "plot_loss(range(100), losses[:100], trainer.val_losses[:100])"
   ]
  }
 ],
 "metadata": {
  "kernelspec": {
   "display_name": ".venv",
   "language": "python",
   "name": "python3"
  },
  "language_info": {
   "codemirror_mode": {
    "name": "ipython",
    "version": 3
   },
   "file_extension": ".py",
   "mimetype": "text/x-python",
   "name": "python",
   "nbconvert_exporter": "python",
   "pygments_lexer": "ipython3",
   "version": "3.9.21"
  }
 },
 "nbformat": 4,
 "nbformat_minor": 2
}
