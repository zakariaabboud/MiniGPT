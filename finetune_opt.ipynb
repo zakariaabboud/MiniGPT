{
 "cells": [
  {
   "cell_type": "code",
   "execution_count": null,
   "metadata": {},
   "outputs": [],
   "source": [
    "!nvidia-smi"
   ]
  },
  {
   "cell_type": "code",
   "execution_count": 21,
   "metadata": {},
   "outputs": [],
   "source": [
    "from mingpt.bpe import BPETokenizer\n",
    "from mingpt.model import GPT\n",
    "\n",
    "import torch\n",
    "from datasets import load_dataset\n",
    "import pandas as pd"
   ]
  },
  {
   "cell_type": "code",
   "execution_count": 22,
   "metadata": {},
   "outputs": [],
   "source": [
    "class StoryDataset:\n",
    "    def __init__(self, data, tokenizer, block_size=128):\n",
    "        self.tokenizer = tokenizer\n",
    "        self.block_size = block_size\n",
    "        self.data1 = [\n",
    "            self.format_example(data_point[\"text\"]) for data_point in data\n",
    "        ]\n",
    "\n",
    "    def format_example(self, text):\n",
    "        tokens = self.tokenizer(text, return_tensors='pt', padding=True, truncation=True, max_length=self.block_size)\n",
    "        tokens = tokens.squeeze(0)\n",
    "        \n",
    "        return tokens\n",
    "\n",
    "    def __len__(self):\n",
    "        return len(self.data1)\n",
    "\n",
    "    def __getitem__(self, idx):\n",
    "        \"\"\"\n",
    "        Returns:\n",
    "            x (torch.Tensor): Input tokens (question + answer prompt).\n",
    "            y (torch.Tensor): Target tokens (shifted output).\n",
    "        \"\"\"\n",
    "        # Handle both single index and list of indices\n",
    "        if isinstance(idx, int):  # Single index\n",
    "            tokens = self.data1[idx]\n",
    "            x = torch.tensor(tokens[:-1], dtype=torch.long)\n",
    "            y = torch.tensor(tokens[1:], dtype=torch.long)\n",
    "            return x, y\n",
    "        \n",
    "        elif isinstance(idx, list) or isinstance(idx, torch.Tensor):  # Batch case\n",
    "            batch_tokens = [self.data1[i] for i in idx]\n",
    "            x_batch = [torch.tensor(tokens[:-1], dtype=torch.long) for tokens in batch_tokens]\n",
    "            y_batch = [torch.tensor(tokens[1:], dtype=torch.long) for tokens in batch_tokens]\n",
    "            return x_batch, y_batch\n",
    "        \n",
    "        else:\n",
    "            raise TypeError(f\"Invalid index type: {type(idx)}\")\n"
   ]
  },
  {
   "cell_type": "code",
   "execution_count": 23,
   "metadata": {},
   "outputs": [],
   "source": [
    "data = load_dataset('roneneldan/TinyStories')\n",
    "data_frame = pd.DataFrame(data[\"train\"])"
   ]
  },
  {
   "cell_type": "code",
   "execution_count": null,
   "metadata": {},
   "outputs": [],
   "source": [
    "data_frame"
   ]
  },
  {
   "cell_type": "code",
   "execution_count": null,
   "metadata": {},
   "outputs": [],
   "source": [
    "data_frame.iloc[0]['text']"
   ]
  },
  {
   "cell_type": "code",
   "execution_count": 26,
   "metadata": {},
   "outputs": [],
   "source": [
    "tokenizer = BPETokenizer()\n",
    "\n",
    "train_dataset = StoryDataset(data[\"train\"].select(range(100)), tokenizer=tokenizer, block_size=512)"
   ]
  },
  {
   "cell_type": "code",
   "execution_count": null,
   "metadata": {},
   "outputs": [],
   "source": [
    "model_type = 'gpt2'\n",
    "device = 'cuda'\n",
    "\n",
    "model = GPT.from_pretrained(model_type)\n",
    "model.to(device)"
   ]
  },
  {
   "cell_type": "code",
   "execution_count": 28,
   "metadata": {},
   "outputs": [],
   "source": [
    "def generate(prompt='', num_samples=1, steps=20, do_sample=True):\n",
    "    tokenizer = BPETokenizer()\n",
    "\n",
    "    if prompt == '':\n",
    "        x = torch.tensor([[tokenizer.encoder.encoder['<|endoftext|>']]], dtype=torch.long)\n",
    "    else:\n",
    "        x = tokenizer(prompt, return_tensors='pt', padding=True, truncation=True, max_length=len(prompt.split())).to(device)\n",
    "\n",
    "    x = x.expand(num_samples, -1)\n",
    "\n",
    "    y = model.generate(x, max_new_tokens=steps, do_sample=do_sample, top_k=40)\n",
    "\n",
    "    endoftext_token_id = tokenizer.encoder.encoder['<|endoftext|>']  # Get the ID of <|endoftext|> token\n",
    "\n",
    "    for i in range(num_samples):\n",
    "        # Decode the generated tokens\n",
    "        out = tokenizer.decode(y[i].cpu().squeeze())\n",
    "\n",
    "        # Check if the output contains the <|endoftext|> token and stop generating when encountered\n",
    "        out_tokens = y[i].cpu().squeeze().tolist()\n",
    "        \n",
    "        # Find the position of <|endoftext|> token in the generated output\n",
    "        if endoftext_token_id in out_tokens:\n",
    "            end_pos = out_tokens.index(endoftext_token_id)\n",
    "            out = tokenizer.decode(y[i].cpu().squeeze()[:end_pos])  # Slice the output up to <|endoftext|> token\n",
    "\n",
    "        print('\\n' + '-' * 80)\n",
    "        print(out)"
   ]
  },
  {
   "cell_type": "markdown",
   "metadata": {},
   "source": [
    "# Before finetuning"
   ]
  },
  {
   "cell_type": "code",
   "execution_count": null,
   "metadata": {},
   "outputs": [],
   "source": [
    "generate(prompt='One day, a little girl named Lily found a', num_samples=2, steps=50)"
   ]
  },
  {
   "cell_type": "code",
   "execution_count": null,
   "metadata": {},
   "outputs": [],
   "source": [
    "generate(prompt='One day,', num_samples=2, steps=50)"
   ]
  },
  {
   "cell_type": "markdown",
   "metadata": {},
   "source": [
    "# Finetuning"
   ]
  },
  {
   "cell_type": "code",
   "execution_count": null,
   "metadata": {},
   "outputs": [],
   "source": [
    "from mingpt.trainer import Trainer\n",
    "\n",
    "train_config = Trainer.get_default_config()\n",
    "train_config.learning_rate = 5e-5\n",
    "train_config.batch_size = 2\n",
    "train_config.max_iters = 50\n",
    "train_config.num_workers = 0\n",
    "def collate_fn(batch):\n",
    "    x_batch, y_batch = zip(*batch)\n",
    "    return torch.stack(x_batch), torch.stack(y_batch)\n",
    "\n",
    "train_config.collate_fn = collate_fn\n",
    "trainer = Trainer(train_config, model, train_dataset)"
   ]
  },
  {
   "cell_type": "code",
   "execution_count": null,
   "metadata": {},
   "outputs": [],
   "source": [
    "losses = []\n",
    "def batch_end_callback(trainer):\n",
    "    if trainer.iter_num % 100 == 0:\n",
    "        print(f\"iter_dt {trainer.iter_dt * 1000:.2f}ms; iter {trainer.iter_num}: train loss {trainer.loss.item():.5f}\")\n",
    "        losses.append(trainer.loss.item())\n",
    "trainer.set_callback('on_batch_end', batch_end_callback)\n",
    "\n",
    "trainer.run()\n",
    "\n",
    "print(losses)"
   ]
  },
  {
   "cell_type": "markdown",
   "metadata": {},
   "source": [
    "# After Finetung"
   ]
  },
  {
   "cell_type": "code",
   "execution_count": null,
   "metadata": {},
   "outputs": [],
   "source": [
    "generate(prompt='One day, a little girl named Lily found a', num_samples=2, steps=50)"
   ]
  },
  {
   "cell_type": "code",
   "execution_count": null,
   "metadata": {},
   "outputs": [],
   "source": [
    "generate(prompt='One day,', num_samples=2, steps=50)"
   ]
  }
 ],
 "metadata": {
  "kernelspec": {
   "display_name": ".venv",
   "language": "python",
   "name": "python3"
  },
  "language_info": {
   "codemirror_mode": {
    "name": "ipython",
    "version": 3
   },
   "file_extension": ".py",
   "mimetype": "text/x-python",
   "name": "python",
   "nbconvert_exporter": "python",
   "pygments_lexer": "ipython3",
   "version": "3.9.21"
  }
 },
 "nbformat": 4,
 "nbformat_minor": 2
}
